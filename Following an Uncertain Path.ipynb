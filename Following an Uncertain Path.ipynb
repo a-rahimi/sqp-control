{
 "metadata": {
  "name": ""
 },
 "nbformat": 3,
 "nbformat_minor": 0,
 "worksheets": [
  {
   "cells": [
    {
     "cell_type": "markdown",
     "metadata": {},
     "source": [
      "$\\newcommand{\\dx}{\\dot{x}}\n",
      "$$\\newcommand{\\dtheta}{\\dot{\\theta}}$\n",
      "$\\newcommand{\\var}{\\text{var}}$\n",
      "$\\newcommand{\\ddx}{\\ddot{x}}$\n",
      "$\\newcommand{\\dt}{\\delta_t}$\n",
      "$\\newcommand{\\E}{\\mathbb{E}}$\n",
      "$\\newcommand{\\R}{\\mathbb{R}}$\n",
      "$\\newcommand{\\U}{\\mathcal{U}}$\n",
      "$\\newcommand{\\Z}{\\mathcal{Z}}$\n",
      "\n",
      "# To Drive a Car in Continuous State-Space\n",
      "_Ali Rahimi_\n",
      "\n",
      "## Introduction\n",
      "\n",
      "Steering a car is hard because what the car does at any moment has consequences down the road. At worse, a bad car control strategy can oscillate the car wildly. At best, it makes wasteful driving decisions.\n",
      "\n",
      "I show how a car can follow a given path with high fidelity while maintaining a target speed.  The controller steers and accelerates the car subject to the car's limits. The control signals it generates minimize an objective function on the resulting trajectory.\n",
      "\n",
      "The path to follow is given to us as a signed score function. This makes it easy to specify an uncertain target path.\n",
      "\n",
      "Before presenting the controller, I briefly describe a starwman greedy controller. At each time step, the greedy controller proposes a move that results in the best performance at the next time step. When it starts on the road, this controller can track it well. But its approach to the road is too aggressive when it starts away from the road. With enogh work, a greedy controller can be made to work well, of course, but the ultimate solution is always a planner.\n",
      "\n",
      "The planner I describe considers the long term consequences of its actions. Before proposing a move, it determines the control signals it might need to generate a few steps down the road, and proposes the move that results in the best average performance in the near future.\n",
      "\n",
      "At each time step, based on the measurements available at the current time step, the planner hallucinates an entire trajectory of control signals. We then use only the first step it proposes, ignoring the rest of the hallucinated trajectory. This process repeats at the next time step. This strategy planning for the longer term but taking only the first step is called \"model predictive control\" by some.\n",
      "\n",
      "\n",
      "### Target path\n",
      "\n",
      "The path to follow is given to us as a signed distance function $p(x)\\in\\R$. This function is 0 on the path, and the signed distance between $x$ and the nearest point on the path at any other $x$. The function takes on positive values on the right of the path and negative values to the left of the path, hence the phrase \"signed distance\".\n",
      "\n",
      "The distance to the path is a measurement that might be rife with uncertainty. Let $d(x)$ be the measurement, $\\E d(x)$ its expectation, and $\\var d(x)$ its variance. One way to incorporate this uncertainty into $p$ to set $p(x) = \\E d(x)/\\var d(x)$. This way, points with higher uncertainty are weighted less when $p$ appears in a cost function. Alternatively, set $p(x)=0$ wherever $|\\E d(x)|<\\Delta$ and $p(x) = \\E d(x)-\\Delta$ everywhere else. This way, we ignore the differences between small measurements, which are presumably due to noise.\n",
      "\n",
      "The ``sim`` module provides some facilities to simulate and visualize the road model and the dynamics of the car. Here is random path function $p$. The coordinate system is unbounded, but we'll focus in the $[-1,1] \\times [-1,1]$ region. The thick black line is the path, where $p(x)=0$. The other lines are the isocontours of $p$. There is also a car with a given pose, orientation, steering angle, and speed. "
     ]
    },
    {
     "cell_type": "code",
     "collapsed": false,
     "input": [
      "%matplotlib inline  \n",
      "import pylab as P\n",
      "from numpy import *\n",
      "import sim\n",
      "\n",
      "# generate a random path function. The return value p is itself is a function.\n",
      "# p(x) returns a dictionary that contains the value of p and various derivatives.\n",
      "# omit the w0 and w1 arguments to generate a random path\n",
      "p = sim.genpath(w0=1.1, w1=-0.660992152062462) \n",
      "sim.draw_path(P.gca(), p)\n",
      "\n",
      "# the state of a car is a five-dimensional vector of\n",
      "#   ( x,  y, orientation, speed, steering angle)\n",
      "s = (-.3, -.2,       pi*.3,   .06,         -pi/12)\n",
      "sim.draw_car(P.gca(), s)\n",
      "\n",
      "P.axis('scaled');"
     ],
     "language": "python",
     "metadata": {},
     "outputs": [
      {
       "metadata": {},
       "output_type": "display_data",
       "png": "[encoded data removed]",
       "text": [
        "<matplotlib.figure.Figure at 0x109885a10>"
       ]
      }
     ],
     "prompt_number": 171
    },
    {
     "cell_type": "markdown",
     "metadata": {},
     "source": [
      "## Car Model\n",
      "\n",
      "At any given time, the state of the car is its position $x\\in\\R^2$, orientation angle $\\alpha\\in [0,2\\pi]$, speed $s \\in \\R$ and direction of the steering wheel $\\theta\\in [0,2\\pi]$. In all, the car has a five dimensional state. Its control inputs are acceleration $\\ddx\\in[-\\Delta_a,+\\Delta_a]$ and change in steering direction $\\dtheta\\in[-\\Delta_\\theta,+\\Delta_\\theta]$."
     ]
    },
    {
     "cell_type": "code",
     "collapsed": false,
     "input": [
      "# some of the parameters of the car\n",
      "max_dtheta = pi/20\n",
      "max_theta = pi/4\n",
      "max_ddx = 0.01\n",
      "target_speed = .1"
     ],
     "language": "python",
     "metadata": {},
     "outputs": [],
     "prompt_number": 172
    },
    {
     "cell_type": "markdown",
     "metadata": {},
     "source": [
      "I use simplified dynamics for the car that ignore slippage, and differential drive. In this model, the car behaves like a stable motorcycle whose wheels produce no gyroscopic effect. Define the unit vector $v(\\theta)$ that points along $\\theta$.  The car's length is $\\ell$. The state transition across a discrete time step $\\dt$ is deterministic:\n",
      "\n",
      "$\\begin{eqnarray}\n",
      "\\sigma_{t+1} &= \\sigma_t + \\ddx \\; \\dt   \\\\\n",
      "\\theta_{t+1} &= \\theta_t + \\dtheta \\; \\dt   \\\\\n",
      "\\alpha_{t+1} &= \\alpha_t + \\tfrac{s_{t+1}}{\\ell} \\tan(\\theta_{t+1}) \\; \\dt \\\\\n",
      "x_{t+1} &= x_t + v(\\alpha_{t+1}) \\; s_{t+1} \\; \\dt \\\\\n",
      "\\end{eqnarray}$\n",
      "\n",
      "The update for $\\alpha$ merits a derivation.  Assume rear-wheel drive and let $x$ denote the position of the rear wheel. In the image below, $x'$ is the location of the rear wheel after it has advanced by $\\sigma\\dt$, $y$ is the location of the front wheel, and $y'$ is the location of the front wheel after the rear wheel has advanced to $x'$. If we knew the angle $\\beta$ we could compute $\\alpha=\\tfrac{\\pi}{2}-\\beta$. \n",
      "\n",
      "<img src=\"files/image0.png\" width=\"400px\" align=\"center\">\n",
      "<i>The car (in brown) before and after moving by $s\\dt$ with the steering wheel (pointing along $yy'$) at angle $\\theta$</i>\n",
      "\n",
      "To find $\\beta$, consider the similar triangle $xyz$, which is similar to the triangle $x'yy'$. The law of sines gives\n",
      "\n",
      "<img src=\"files/image1.png\" width=\"400px\" align=\"center\">\n",
      "<i>Inspect instead a similar but larger triangle $xyy'$</i>\n",
      "\n",
      "Let's write the state, the dynamics, and the state  more compactly in vectorized form:\n",
      "\n",
      "$\\begin{eqnarray}\n",
      "u &= (\\ddx,\\dtheta) \\\\\n",
      "s &= (x,\\alpha,\\sigma,\\theta) \\\\\n",
      "s_{t+1} &= f(s_t,u_t)\n",
      "\\end{eqnarray}$\n",
      "\n",
      "Let's simulate the dynamics of the car from this starting state. Generate a sequence of controls and draw the resulting path of the car and apply them. In this sequence, acceleration is 0, and the wheel turns gradually to the left for 20 time steps."
     ]
    },
    {
     "cell_type": "code",
     "collapsed": false,
     "input": [
      "# a sequence of controls. A control signal is a 2-dimensional vector \n",
      "# of acceleration and change in steering angle:\n",
      "#    (ddx, dtheta)\n",
      "U = [(0.0, 0.03)]*20\n",
      "\n",
      "# Apply the sequence of controls, starting from the current state, to\n",
      "# obtain the sequence of states\n",
      "S = [s]\n",
      "for u in [(0.0,0.03)]*20:\n",
      "  S.append(sim.apply_control(S[-1],u)['val'])\n",
      "\n",
      "# render this sequence of states in a static image. Newer states have higher opacity\n",
      "sim.draw_path(P.gca(), p)\n",
      "sim.animate_car(P.gca(), S, remove_car=False, sleep=0, alphas=linspace(0.1,1.,len(S))**2)\n",
      "P.axis('scaled');"
     ],
     "language": "python",
     "metadata": {},
     "outputs": [
      {
       "metadata": {},
       "output_type": "display_data",
       "png": "[encoded data removed]",
       "text": [
        "<matplotlib.figure.Figure at 0x10a2ad490>"
       ]
      }
     ],
     "prompt_number": 219
    },
    {
     "cell_type": "markdown",
     "metadata": {},
     "source": [
      "You can also generate an animated version of this still."
     ]
    },
    {
     "cell_type": "code",
     "collapsed": false,
     "input": [
      "import IPython.core.display\n",
      "import subprocess, glob\n",
      "\n",
      "# Some animation support for IPython notebook. The sim package has its\n",
      "# own animation support for matplotlib\n",
      "\n",
      "def anim_start(base):\n",
      "    # uncomment this to generate animated GIFs\n",
      "    anim.base = base\n",
      "    pass\n",
      "\n",
      "def anim(ax,i):\n",
      "  IPython.core.display.clear_output()\n",
      "  IPython.core.display.display(ax.figure)\n",
      "  if anim.base:\n",
      "    ax.figure.savefig(anim.base + '%03d.png'%i, dpi=150)\n",
      "    \n",
      "def anim_save_and_show():\n",
      "    if not anim.base:\n",
      "        return\n",
      "    gif = anim.base + '.gif'\n",
      "    subprocess.call(['convert'] + glob.glob(anim.base + '*.png') + [gif])\n",
      "    IPython.core.display.clear_output()\n",
      "    IPython.core.display.display(IPython.core.display.Image(url='https://raw.githubusercontent.com/a-rahimi/sqp-control/master/' + gif))\n",
      "\n",
      "anim_start('anim/sim')\n",
      "sim.show_results(p, S, None, animated=1e-6,  save_output=anim)\n",
      "anim_save_and_show()\n",
      "P.close('all')"
     ],
     "language": "python",
     "metadata": {},
     "outputs": [
      {
       "html": [
        "<img src=\"https://raw.githubusercontent.com/a-rahimi/sqp-control/master/anim/sim.gif\"/>"
       ],
       "metadata": {},
       "output_type": "display_data",
       "text": [
        "<IPython.core.display.Image at 0x10b3818d0>"
       ]
      }
     ],
     "prompt_number": 220
    },
    {
     "cell_type": "markdown",
     "metadata": {},
     "source": [
      "## Greedy Controls\n",
      "\n",
      "The a good controller generates a sequence of controls $u_1\\ldots u_T$ whose resulting states $s_1\\ldots s_T$ are good in some sense. A measure of the quality of a state $s_t$ is\n",
      "\n",
      "$$L(s_t) = p(x_t)^2 + \\lambda \\cdot (\\sigma_t - \\sigma^*)^2$$\n",
      "\n",
      "This cost function favors states that are near the path $p$ and whose speed is close to the target speed $\\sigma^*$. The scalar $\\lambda$ governs the trade-off between these two (possibly contradictory) concerns. \n",
      "\n",
      "From state $s_t$, a greedy controller finds a control signal $u_t$ that results in a state $s_{t+1}$ that has low cost:\n",
      "\n",
      "$$\\begin{eqnarray}\n",
      "\\min_u& L(f(s_t,u)) \\\\\n",
      "\\text{s.t. }& |\\ddx| \\leq \\Delta_a \\\\\n",
      "&|\\dtheta| \\leq \\Delta_\\dtheta \\\\\n",
      "&|f_3(s_t,u) | \\leq \\Delta_\\theta\n",
      "\\end{eqnarray}$$"
     ]
    },
    {
     "cell_type": "markdown",
     "metadata": {},
     "source": [
      "This is a constrained nonlinear optimization problem. The `continuous` package provides routines for computing $L$ and its derivatives. This controller works well when the car is close to the path:"
     ]
    },
    {
     "cell_type": "code",
     "collapsed": false,
     "input": [
      "import continuous\n",
      "\n",
      "lambda_speed = 10.\n",
      "\n",
      "def run_greedy(p, s, nsteps=80, animate=True): \n",
      "  \"\"\"simulate the greedy controller for nsteps starting from the given starting state\n",
      "  and for the given path.\"\"\"\n",
      "  S = []\n",
      "  Ls = []\n",
      "  for i in xrange(nsteps):\n",
      "    S.append( s )\n",
      "\n",
      "    def cost(u): # L(f(s_t,u))\n",
      "      return continuous.one_step_cost(u, p, S[-1], target_speed, lambda_speed)\n",
      "\n",
      "    u = continuous.greedy_controller(cost, s, max_dtheta, max_theta, max_ddx)\n",
      "    Ls.append( cost(u)[0] )\n",
      "\n",
      "    s = sim.apply_control(s, u)['val']\n",
      "  sim.draw_path(P.gca(), p)\n",
      "  P.axis('scaled');\n",
      "  if animate:\n",
      "    sim.show_results(p, S, None, animated=1e-6,  save_output=anim)\n",
      "    P.close('all')\n",
      "  else:\n",
      "    sim.animate_car(P.gca(), S, remove_car=False, sleep=0, alphas=linspace(0.1,1.,len(S))**2)\n",
      "\n",
      "anim_start('anim/greedy-close')\n",
      "run_greedy(p, (-.5, -1., pi*.4, .1, 0.), animate=True)\n",
      "anim_save_and_show()"
     ],
     "language": "python",
     "metadata": {},
     "outputs": [
      {
       "html": [
        "<img src=\"https://raw.githubusercontent.com/a-rahimi/sqp-control/master/anim/greedy-close.gif\"/>"
       ],
       "metadata": {},
       "output_type": "display_data",
       "text": [
        "<IPython.core.display.Image at 0x10b64c090>"
       ]
      }
     ],
     "prompt_number": 221
    },
    {
     "cell_type": "markdown",
     "metadata": {},
     "source": [
      "But this greedy strategy is awful for other paths. When it starts far from the road, it tries to reach the road as quicklky as possible, which means it approaches it at a right angle. Then it overshoots, and the mistake propagates."
     ]
    },
    {
     "cell_type": "code",
     "collapsed": false,
     "input": [
      "anim_start('anim/greedy-far')\n",
      "run_greedy(p, (-0., .5, pi/3, .04, 0), animate=True)\n",
      "anim_save_and_show()"
     ],
     "language": "python",
     "metadata": {},
     "outputs": [
      {
       "html": [
        "<img src=\"https://raw.githubusercontent.com/a-rahimi/sqp-control/master/anim/greedy-far.gif\"/>"
       ],
       "metadata": {},
       "output_type": "display_data",
       "text": [
        "<IPython.core.display.Image at 0x10b387a90>"
       ]
      }
     ],
     "prompt_number": 222
    },
    {
     "cell_type": "markdown",
     "metadata": {},
     "source": [
      "Let's contemplate some seemingly easy fixes to this problem:\n",
      "\n",
      "1. Add a term to L that penalizes the deviation between the car's orientation $\\alpha$ and the tangent of the curve. This term might look like $\\lambda_1 \\left|\\begin{bmatrix}\\cos(\\alpha_t)\\\\\\sin(\\alpha_t)\\end{bmatrix}^\\top\\frac{dp}{dx}(x)\\right|$.\n",
      "\n",
      "2. Dampen the control signal'. The controller can be made less aggressive by artificially reducing its output by some scalar less than one. The controller is still myopically greedy, so it will still oscillate, these oscillation will be milder.\n",
      "\n",
      "As a practical matter, these ideas introduce additional parameters that must be tuned. As a design matter, they muddle a simple desiderata of staying close to the road while maintaining speed. Furthermore, these methods aren't extendable to more complex driving maneuvers.\n",
      "\n",
      "## Model Predictive Control\n",
      "\n",
      "The controller can be made less aggressive by making it aware of the longer-term consequences of its action. Taking a step $u_1$ changes the state $s_{t+1}$, which in turn changes the optimization problem at the next time step. To takine into account this cascading, minimize the entire sequence of $u_1\\ldots u_T$ simultaneously:\n",
      "\n",
      "$$\\begin{eqnarray}\n",
      "\\min_{\\substack{u_1\\ldots u_{T-1} \\\\ s_1\\ldots s_T}} & \\sum_{t=1}^T L(s_t) \\\\\n",
      "\\text{s.t. } |\\ddx| &\\leq \\Delta_a \\\\\n",
      "|\\dtheta| &\\leq \\Delta_\\dtheta \\\\\n",
      "\\left[s_t\\right]_3 &\\leq \\Delta_\\theta \\\\\n",
      " s_t &= f(s_{t-1}, u_t)\n",
      "\\end{eqnarray}$$\n",
      "\n",
      "Starting from an initial state $s_0$, the solution of the optimization is the sequence of of states and controls that minimizes the objective over a time horizon of length $T$.\n",
      "\n",
      "The routine ```reachable``` solves this problem as a sequence of quadratic programs."
     ]
    },
    {
     "cell_type": "code",
     "collapsed": false,
     "input": [
      "def show_results_per_iter(path, s0, sT, S, L, it, animated=0):\n",
      "  sim.show_results(path, S, L, animated=animated,\n",
      "                   save_output=anim if animated else None)\n",
      "  if s0 is not None:\n",
      "    sim.draw_car(P.figure(0).get_axes()[0], s0, color='r')\n",
      "  if sT is not None:\n",
      "    sim.draw_car(P.figure(0).get_axes()[0], sT, color='r')\n",
      "  anim(P.gca(), 0)\n",
      "\n",
      "\n",
      "T = 30\n",
      "s0 = (.0, .0, pi/2, .04, -pi/4)\n",
      "S,U = continuous.reachable(T, s0, None,\n",
      "                lambda s,**kw: continuous.state_cost(p, target_speed, lambda_speed, s,**kw),\n",
      "                sim.apply_control, max_dtheta, max_theta, max_ddx,\n",
      "                show_results=lambda *a: show_results_per_iter(p, s0, None, *a))\n",
      "\n",
      "anim_start('anim/sqp-path')\n",
      "show_results_per_iter(p, s0, None, S, None, 0, animated=1e-6)\n",
      "anim_save_and_show()\n",
      "P.close('all');"
     ],
     "language": "python",
     "metadata": {},
     "outputs": [
      {
       "html": [
        "<img src=\"https://raw.githubusercontent.com/a-rahimi/sqp-control/master/anim/sqp-path.gif\"/>"
       ],
       "metadata": {},
       "output_type": "display_data",
       "text": [
        "<IPython.core.display.Image at 0x10b469ad0>"
       ]
      }
     ],
     "prompt_number": 223
    },
    {
     "cell_type": "markdown",
     "metadata": {},
     "source": [
      "Alternatively, when ```reachable``` is called with a final state $s_T^*$ instead of a cost function $L$, it finds a control path from $s_0$ to $s_T^*$. If $s_T^*$ cannot be reached within the given number of $T$ time steps, it finds a path to the nearest state to $s_T^*$. It solves the problem\n",
      "\n",
      "$$\\begin{eqnarray}\n",
      "\\min_{\\substack{u_1\\ldots u_{T-1} \\\\ s_1\\ldots s_T}} & \\|s_T - s_T^*\\| \\\\\n",
      "\\text{s.t. } |\\ddx| &\\leq \\Delta_a \\\\\n",
      "|\\dtheta| &\\leq \\Delta_\\dtheta \\\\\n",
      "\\left[s_t\\right]_3 &\\leq \\Delta_\\theta \\\\\n",
      " s_t &= f(s_{t-1}, u_t)\n",
      "\\end{eqnarray}$$"
     ]
    },
    {
     "cell_type": "code",
     "collapsed": false,
     "input": [
      "s0 = (.0, .0, pi/2, .04, pi/4)\n",
      "sT = (-.2, .4, 0, .0, 0)\n",
      "S,U = continuous.reachable(20, s0, sT, None, sim.apply_control, max_dtheta, max_theta, max_ddx,\n",
      "                           show_results=lambda *a: show_results_per_iter(None, s0, sT, *a))\n",
      "\n",
      "anim_start('anim/sqp-jump1')\n",
      "show_results_per_iter(None, s0, sT, S, None, 0, animated=1e-6)\n",
      "anim_save_and_show()\n",
      "P.close('all')"
     ],
     "language": "python",
     "metadata": {},
     "outputs": [
      {
       "html": [
        "<img src=\"https://raw.githubusercontent.com/a-rahimi/sqp-control/master/anim/sqp-jump1.gif\"/>"
       ],
       "metadata": {},
       "output_type": "display_data",
       "text": [
        "<IPython.core.display.Image at 0x105d27090>"
       ]
      }
     ],
     "prompt_number": "*"
    },
    {
     "cell_type": "code",
     "collapsed": false,
     "input": [
      "reload(continuous)\n",
      "s0 = (0., 0., pi/2, -.04, 0)\n",
      "sT = (.3, 0. , pi/2, 0., 0.)\n",
      "S,U = continuous.reachable(35, s0, sT, None, sim.apply_control, max_dtheta, max_theta, max_ddx,\n",
      "                           show_results=lambda *a: show_results_per_iter(None, s0, sT, *a))\n",
      "anim_start('anim/sqp-jump2')\n",
      "show_results_per_iter(None, s0, sT, S, None, 0, animated=1e-6)\n",
      "anim_save_and_show()\n",
      "P.close('all')"
     ],
     "language": "python",
     "metadata": {},
     "outputs": [
      {
       "metadata": {},
       "output_type": "display_data",
       "png": "[encoded data removed]",
       "text": [
        "<matplotlib.figure.Figure at 0x10b60ecd0>"
       ]
      }
     ],
     "prompt_number": "*"
    },
    {
     "cell_type": "markdown",
     "metadata": {},
     "source": [
      "It's interesting to observe that some pairs of seemingly nearby states $s_0$, $s_T$ are not reachable within $T=20$.\n",
      "\n",
      "This routine is useful for planning more complicated maneuvers, like parallel parking, when combined with a discrete planner (the functions in the ```discrete``` module are still in development).\n",
      "\n",
      "## Next Steps\n",
      "\n",
      "The planner may be exploring near a local optimum of the cost function. Its initial path is one where the car drifts, with no control being applied at all ($u_t=0$). The discrete planner in the ```discrete``` module are in development, and will provide an initial iterate for the continuous planner. The resulting planner could plan more complicated maneuvers, like parallel parking, or parking in tight spots."
     ]
    }
   ],
   "metadata": {}
  }
 ]
}